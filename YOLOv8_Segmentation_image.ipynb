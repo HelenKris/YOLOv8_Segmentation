{
  "nbformat": 4,
  "nbformat_minor": 0,
  "metadata": {
    "colab": {
      "provenance": []
    },
    "kernelspec": {
      "name": "python3",
      "display_name": "Python 3"
    },
    "language_info": {
      "name": "python"
    },
    "gpuClass": "standard"
  },
  "cells": [
    {
      "cell_type": "markdown",
      "metadata": {
        "id": "view-in-github"
      },
      "source": [
        "<a href=\"https://colab.research.google.com/github/DatumLearning/YOLOv8_Segmentation_image/blob/main/yolo_seg_img.ipynb\" target=\"_parent\"><img src=\"https://colab.research.google.com/assets/colab-badge.svg\" alt=\"Open In Colab\"/></a>\n",
        "\n",
        "# **YOLOv8_Segmentation_image**\n"
      ]
    },
    {
      "cell_type": "code",
      "execution_count": 1,
      "metadata": {
        "id": "Tw1P7gsxKHOZ",
        "colab": {
          "base_uri": "https://localhost:8080/"
        },
        "outputId": "c7e45df8-8c18-4063-a874-c94ffdd3a82e"
      },
      "outputs": [
        {
          "output_type": "stream",
          "name": "stdout",
          "text": [
            "\u001b[?25l     \u001b[90m━━━━━━━━━━━━━━━━━━━━━━━━━━━━━━━━━━━━━━━━\u001b[0m \u001b[32m0.0/659.4 kB\u001b[0m \u001b[31m?\u001b[0m eta \u001b[36m-:--:--\u001b[0m\r\u001b[2K     \u001b[91m━━━━━━━━\u001b[0m\u001b[91m╸\u001b[0m\u001b[90m━━━━━━━━━━━━━━━━━━━━━━━━━━━━━━━\u001b[0m \u001b[32m143.4/659.4 kB\u001b[0m \u001b[31m4.3 MB/s\u001b[0m eta \u001b[36m0:00:01\u001b[0m\r\u001b[2K     \u001b[90m━━━━━━━━━━━━━━━━━━━━━━━━━━━━━━━━━━━━━━━━\u001b[0m \u001b[32m659.4/659.4 kB\u001b[0m \u001b[31m9.8 MB/s\u001b[0m eta \u001b[36m0:00:00\u001b[0m\n",
            "\u001b[?25h"
          ]
        }
      ],
      "source": [
        "!pip install ultralytics -q"
      ]
    },
    {
      "cell_type": "code",
      "source": [
        "from ultralytics import YOLO\n",
        "import cv2\n",
        "import numpy as np\n",
        "from google.colab.patches import cv2_imshow"
      ],
      "metadata": {
        "id": "oPTqX5GOKhO9"
      },
      "execution_count": 2,
      "outputs": []
    },
    {
      "cell_type": "code",
      "source": [
        "model = YOLO(\"yolov8m-seg.pt\")"
      ],
      "metadata": {
        "id": "0eG0e-2pKnax",
        "colab": {
          "base_uri": "https://localhost:8080/"
        },
        "outputId": "d7cd401a-c3e7-42fe-eb2a-e9d980c37090"
      },
      "execution_count": 3,
      "outputs": [
        {
          "output_type": "stream",
          "name": "stdout",
          "text": [
            "Downloading https://github.com/ultralytics/assets/releases/download/v0.0.0/yolov8m-seg.pt to 'yolov8m-seg.pt'...\n"
          ]
        },
        {
          "output_type": "stream",
          "name": "stderr",
          "text": [
            "100%|██████████| 52.4M/52.4M [00:00<00:00, 224MB/s]\n"
          ]
        }
      ]
    },
    {
      "cell_type": "code",
      "source": [
        "predict = model.predict(\"/content/doggo.jpg\" , save = True , save_txt = True)"
      ],
      "metadata": {
        "colab": {
          "base_uri": "https://localhost:8080/"
        },
        "id": "6rjVsu0HKtwU",
        "outputId": "eaaa3984-6ff0-4306-e38c-e4b0b40e6627"
      },
      "execution_count": 4,
      "outputs": [
        {
          "output_type": "stream",
          "name": "stdout",
          "text": [
            "\n",
            "image 1/1 /content/doggo.jpg: 480x640 1 bicycle, 1 truck, 1 dog, 1786.5ms\n",
            "Speed: 21.4ms preprocess, 1786.5ms inference, 46.8ms postprocess per image at shape (1, 3, 480, 640)\n",
            "Results saved to \u001b[1mruns/segment/predict\u001b[0m\n",
            "1 label saved to runs/segment/predict/labels\n"
          ]
        }
      ]
    },
    {
      "cell_type": "code",
      "source": [
        "predict[0].names"
      ],
      "metadata": {
        "id": "zJsUYPLvWqG1"
      },
      "execution_count": null,
      "outputs": []
    },
    {
      "cell_type": "code",
      "source": [
        "predict"
      ],
      "metadata": {
        "colab": {
          "base_uri": "https://localhost:8080/"
        },
        "id": "o2X24v0JQ-Kp",
        "outputId": "9a22499f-cff4-4a79-c7f7-bce4003c63c4"
      },
      "execution_count": 38,
      "outputs": [
        {
          "output_type": "execute_result",
          "data": {
            "text/plain": [
              "[ultralytics.engine.results.Results object with attributes:\n",
              " \n",
              " boxes: ultralytics.engine.results.Boxes object\n",
              " keypoints: None\n",
              " masks: ultralytics.engine.results.Masks object\n",
              " names: {0: 'person', 1: 'bicycle', 2: 'car', 3: 'motorcycle', 4: 'airplane', 5: 'bus', 6: 'train', 7: 'truck', 8: 'boat', 9: 'traffic light', 10: 'fire hydrant', 11: 'stop sign', 12: 'parking meter', 13: 'bench', 14: 'bird', 15: 'cat', 16: 'dog', 17: 'horse', 18: 'sheep', 19: 'cow', 20: 'elephant', 21: 'bear', 22: 'zebra', 23: 'giraffe', 24: 'backpack', 25: 'umbrella', 26: 'handbag', 27: 'tie', 28: 'suitcase', 29: 'frisbee', 30: 'skis', 31: 'snowboard', 32: 'sports ball', 33: 'kite', 34: 'baseball bat', 35: 'baseball glove', 36: 'skateboard', 37: 'surfboard', 38: 'tennis racket', 39: 'bottle', 40: 'wine glass', 41: 'cup', 42: 'fork', 43: 'knife', 44: 'spoon', 45: 'bowl', 46: 'banana', 47: 'apple', 48: 'sandwich', 49: 'orange', 50: 'broccoli', 51: 'carrot', 52: 'hot dog', 53: 'pizza', 54: 'donut', 55: 'cake', 56: 'chair', 57: 'couch', 58: 'potted plant', 59: 'bed', 60: 'dining table', 61: 'toilet', 62: 'tv', 63: 'laptop', 64: 'mouse', 65: 'remote', 66: 'keyboard', 67: 'cell phone', 68: 'microwave', 69: 'oven', 70: 'toaster', 71: 'sink', 72: 'refrigerator', 73: 'book', 74: 'clock', 75: 'vase', 76: 'scissors', 77: 'teddy bear', 78: 'hair drier', 79: 'toothbrush'}\n",
              " orig_img: array([[[ 50,  58,  57],\n",
              "         [ 51,  59,  58],\n",
              "         [ 53,  61,  60],\n",
              "         ...,\n",
              "         [ 47,  89, 142],\n",
              "         [ 41,  50,  88],\n",
              "         [ 47,  71,  63]],\n",
              " \n",
              "        [[ 51,  59,  58],\n",
              "         [ 51,  59,  58],\n",
              "         [ 52,  60,  59],\n",
              "         ...,\n",
              "         [ 37,  74, 124],\n",
              "         [ 41,  50,  84],\n",
              "         [ 46,  70,  58]],\n",
              " \n",
              "        [[ 51,  59,  58],\n",
              "         [ 51,  59,  58],\n",
              "         [ 52,  60,  59],\n",
              "         ...,\n",
              "         [ 25,  54,  98],\n",
              "         [ 48,  54,  77],\n",
              "         [ 43,  62,  45]],\n",
              " \n",
              "        ...,\n",
              " \n",
              "        [[179, 168, 160],\n",
              "         [179, 168, 160],\n",
              "         [182, 171, 163],\n",
              "         ...,\n",
              "         [ 64,  64,  80],\n",
              "         [ 36,  39,  53],\n",
              "         [ 48,  53,  62]],\n",
              " \n",
              "        [[180, 169, 161],\n",
              "         [179, 168, 160],\n",
              "         [175, 164, 156],\n",
              "         ...,\n",
              "         [ 61,  61,  79],\n",
              "         [ 37,  40,  54],\n",
              "         [ 52,  56,  67]],\n",
              " \n",
              "        [[176, 165, 157],\n",
              "         [178, 167, 159],\n",
              "         [172, 161, 153],\n",
              "         ...,\n",
              "         [ 62,  62,  80],\n",
              "         [ 33,  36,  50],\n",
              "         [ 35,  39,  50]]], dtype=uint8)\n",
              " orig_shape: (576, 768)\n",
              " path: '/content/doggo.jpg'\n",
              " probs: None\n",
              " save_dir: 'runs/segment/predict'\n",
              " speed: {'preprocess': 21.40951156616211, 'inference': 1786.5307331085205, 'postprocess': 46.845197677612305}]"
            ]
          },
          "metadata": {},
          "execution_count": 38
        }
      ]
    },
    {
      "cell_type": "code",
      "source": [
        "predict[0].masks.data"
      ],
      "metadata": {
        "colab": {
          "base_uri": "https://localhost:8080/"
        },
        "id": "2loLUcZXRhDN",
        "outputId": "c5519a9c-9ee0-4d0b-b2c5-6c9d3647206f"
      },
      "execution_count": 17,
      "outputs": [
        {
          "output_type": "execute_result",
          "data": {
            "text/plain": [
              "tensor([[[0., 0., 0.,  ..., 0., 0., 0.],\n",
              "         [0., 0., 0.,  ..., 0., 0., 0.],\n",
              "         [0., 0., 0.,  ..., 0., 0., 0.],\n",
              "         ...,\n",
              "         [0., 0., 0.,  ..., 0., 0., 0.],\n",
              "         [0., 0., 0.,  ..., 0., 0., 0.],\n",
              "         [0., 0., 0.,  ..., 0., 0., 0.]],\n",
              "\n",
              "        [[0., 0., 0.,  ..., 0., 0., 0.],\n",
              "         [0., 0., 0.,  ..., 0., 0., 0.],\n",
              "         [0., 0., 0.,  ..., 0., 0., 0.],\n",
              "         ...,\n",
              "         [0., 0., 0.,  ..., 0., 0., 0.],\n",
              "         [0., 0., 0.,  ..., 0., 0., 0.],\n",
              "         [0., 0., 0.,  ..., 0., 0., 0.]],\n",
              "\n",
              "        [[0., 0., 0.,  ..., 0., 0., 0.],\n",
              "         [0., 0., 0.,  ..., 0., 0., 0.],\n",
              "         [0., 0., 0.,  ..., 0., 0., 0.],\n",
              "         ...,\n",
              "         [0., 0., 0.,  ..., 0., 0., 0.],\n",
              "         [0., 0., 0.,  ..., 0., 0., 0.],\n",
              "         [0., 0., 0.,  ..., 0., 0., 0.]]])"
            ]
          },
          "metadata": {},
          "execution_count": 17
        }
      ]
    },
    {
      "cell_type": "code",
      "source": [
        "predict[0].masks.data.shape"
      ],
      "metadata": {
        "colab": {
          "base_uri": "https://localhost:8080/"
        },
        "id": "PlNRV7loP8iC",
        "outputId": "b53b1ded-018d-48a9-ad94-016fa94cb03e"
      },
      "execution_count": 15,
      "outputs": [
        {
          "output_type": "execute_result",
          "data": {
            "text/plain": [
              "torch.Size([3, 480, 640])"
            ]
          },
          "metadata": {},
          "execution_count": 15
        }
      ]
    },
    {
      "cell_type": "code",
      "source": [
        "predict[0].masks.data[0].unique()"
      ],
      "metadata": {
        "colab": {
          "base_uri": "https://localhost:8080/"
        },
        "id": "leaTqL3NkDM6",
        "outputId": "ffa6bba6-0d98-41e3-d1e9-7aa20e9974e0"
      },
      "execution_count": 10,
      "outputs": [
        {
          "output_type": "execute_result",
          "data": {
            "text/plain": [
              "tensor([0., 1.])"
            ]
          },
          "metadata": {},
          "execution_count": 10
        }
      ]
    },
    {
      "cell_type": "code",
      "source": [
        "H , W , _ = cv2.imread(\"/content/doggo.jpg\").shape"
      ],
      "metadata": {
        "id": "m6eo2R6Ldx6T"
      },
      "execution_count": 18,
      "outputs": []
    },
    {
      "cell_type": "code",
      "source": [
        "cv2_imshow((predict[0].masks.data[2].numpy() * 255).astype(\"uint8\"))"
      ],
      "metadata": {
        "id": "vlo0E99zz-Vs",
        "colab": {
          "base_uri": "https://localhost:8080/",
          "height": 497
        },
        "outputId": "4713ed9c-845d-485f-b140-670d42d15feb"
      },
      "execution_count": 23,
      "outputs": [
        {
          "output_type": "display_data",
          "data": {
            "text/plain": [
              "<PIL.Image.Image image mode=L size=640x480>"
            ],
            "image/png": "[encoded data removed]"
          },
          "metadata": {}
        }
      ]
    },
    {
      "cell_type": "code",
      "source": [
        "cv2_imshow((predict[0].masks.data[1].numpy() * 255).astype(\"uint8\"))"
      ],
      "metadata": {
        "colab": {
          "base_uri": "https://localhost:8080/",
          "height": 497
        },
        "id": "jdTyQd7QoUBx",
        "outputId": "7502584a-481e-4d03-d660-3f8afe32d7a4"
      },
      "execution_count": 35,
      "outputs": [
        {
          "output_type": "display_data",
          "data": {
            "text/plain": [
              "<PIL.Image.Image image mode=L size=640x480>"
            ],
            "image/png": "[encoded data removed]"
          },
          "metadata": {}
        }
      ]
    },
    {
      "cell_type": "code",
      "source": [
        "cv2_imshow((predict[0].masks.masks[2].numpy() * 255).astype(\"uint8\"))"
      ],
      "metadata": {
        "colab": {
          "base_uri": "https://localhost:8080/",
          "height": 488
        },
        "id": "uclFunkHo8ka",
        "outputId": "a96090d3-5df6-42dd-fb91-fbde3b432780"
      },
      "execution_count": null,
      "outputs": [
        {
          "output_type": "display_data",
          "data": {
            "text/plain": [
              "<PIL.Image.Image image mode=L size=640x480 at 0x7F27D18EEFA0>"
            ],
            "image/png": "[encoded data removed]"
          },
          "metadata": {}
        }
      ]
    },
    {
      "cell_type": "code",
      "source": [
        "x = (predict[0].masks.xy[2][: , 0].astype('int'))\n",
        "y = (predict[0].masks.xy[2][: , 1].astype('int'))"
      ],
      "metadata": {
        "id": "XHR15xZlTUUP"
      },
      "execution_count": 29,
      "outputs": []
    },
    {
      "cell_type": "code",
      "source": [
        "blk = np.zeros((H , W))\n",
        "blk[y , x] = 255\n",
        "cv2_imshow(blk.astype(\"uint8\"))"
      ],
      "metadata": {
        "colab": {
          "base_uri": "https://localhost:8080/",
          "height": 593
        },
        "id": "mC5cc-uApEY5",
        "outputId": "625170fa-e0ff-42d4-9fbf-00e9d5d2944b"
      },
      "execution_count": 30,
      "outputs": [
        {
          "output_type": "display_data",
          "data": {
            "text/plain": [
              "<PIL.Image.Image image mode=L size=768x576>"
            ],
            "image/png": "[encoded data removed]"
          },
          "metadata": {}
        }
      ]
    },
    {
      "cell_type": "code",
      "source": [
        "outs = open(\"/content/runs/segment/predict/labels/doggo.txt\" , \"r\").readlines()"
      ],
      "metadata": {
        "id": "QYEbyhXtp501"
      },
      "execution_count": 31,
      "outputs": []
    },
    {
      "cell_type": "code",
      "source": [
        "for dt in outs:\n",
        "  print(int(dt.split()[0]) , predict[0].names.get(int(dt.split()[0])))"
      ],
      "metadata": {
        "colab": {
          "base_uri": "https://localhost:8080/"
        },
        "id": "tPXDK6bIyfLM",
        "outputId": "81b65aeb-00c9-4099-a4d2-06fd75083e66"
      },
      "execution_count": 55,
      "outputs": [
        {
          "output_type": "stream",
          "name": "stdout",
          "text": [
            "1 bicycle\n",
            "16 dog\n",
            "7 truck\n"
          ]
        }
      ]
    }
  ]
}